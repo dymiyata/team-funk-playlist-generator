{
 "cells": [
  {
   "cell_type": "code",
   "execution_count": 1,
   "id": "73c40ced",
   "metadata": {},
   "outputs": [],
   "source": [
    "import numpy as np\n",
    "import pandas as pd\n",
    "import json\n",
    "from numba import njit\n",
    "\n",
    "import sqlalchemy as db\n",
    "\n",
    "from time import time\n",
    "from datetime import timedelta\n",
    "\n",
    "import matplotlib.pyplot as plt\n",
    "from sklearn.model_selection import train_test_split"
   ]
  },
  {
   "cell_type": "code",
   "execution_count": 2,
   "id": "ef5cd7f9",
   "metadata": {},
   "outputs": [],
   "source": [
    "# Load functions\n",
    "%run Functions.ipynb"
   ]
  },
  {
   "cell_type": "markdown",
   "id": "0e5c5ec0",
   "metadata": {},
   "source": [
    "# Load database"
   ]
  },
  {
   "cell_type": "code",
   "execution_count": 3,
   "id": "b3ce354b",
   "metadata": {},
   "outputs": [],
   "source": [
    "db_path = \"sqlite:///../MPD_sql.db\"\n",
    "engine = db.create_engine(db_path)\n",
    "conn = engine.connect()"
   ]
  },
  {
   "cell_type": "code",
   "execution_count": 4,
   "id": "ce78d6d3",
   "metadata": {},
   "outputs": [
    {
     "name": "stdout",
     "output_type": "stream",
     "text": [
      "1.51%: 3.10 sec\n",
      "3.01%: 1.75 sec\n",
      "4.52%: 1.53 sec\n",
      "6.03%: 1.59 sec\n",
      "7.54%: 1.46 sec\n",
      "9.04%: 1.46 sec\n",
      "10.55%: 1.50 sec\n",
      "12.06%: 1.71 sec\n",
      "13.57%: 1.47 sec\n",
      "15.07%: 1.53 sec\n",
      "16.58%: 1.51 sec\n",
      "18.09%: 1.21 sec\n",
      "19.59%: 1.64 sec\n",
      "21.10%: 1.39 sec\n",
      "22.61%: 1.58 sec\n",
      "24.12%: 1.42 sec\n",
      "25.62%: 1.58 sec\n",
      "27.13%: 1.39 sec\n",
      "28.64%: 1.66 sec\n",
      "30.14%: 1.44 sec\n",
      "31.65%: 1.46 sec\n",
      "33.16%: 1.47 sec\n",
      "34.67%: 1.21 sec\n",
      "36.17%: 1.58 sec\n",
      "37.68%: 1.40 sec\n",
      "39.19%: 1.60 sec\n",
      "40.70%: 1.45 sec\n",
      "42.20%: 1.68 sec\n",
      "43.71%: 1.41 sec\n",
      "45.22%: 1.44 sec\n",
      "46.72%: 1.39 sec\n",
      "48.23%: 1.60 sec\n",
      "49.74%: 1.46 sec\n",
      "51.25%: 1.46 sec\n",
      "52.75%: 1.60 sec\n",
      "54.26%: 1.41 sec\n",
      "55.77%: 1.39 sec\n",
      "57.28%: 1.37 sec\n",
      "58.78%: 1.59 sec\n",
      "60.29%: 1.42 sec\n",
      "61.80%: 1.41 sec\n",
      "63.30%: 1.40 sec\n",
      "64.81%: 1.41 sec\n",
      "66.32%: 1.35 sec\n",
      "67.83%: 1.56 sec\n",
      "69.33%: 1.38 sec\n",
      "70.84%: 1.59 sec\n",
      "72.35%: 1.42 sec\n",
      "73.85%: 1.41 sec\n",
      "75.36%: 1.38 sec\n",
      "76.87%: 1.37 sec\n",
      "78.38%: 1.61 sec\n",
      "79.88%: 1.49 sec\n",
      "81.39%: 1.42 sec\n",
      "82.90%: 1.18 sec\n",
      "84.41%: 1.53 sec\n",
      "85.91%: 1.60 sec\n",
      "87.42%: 1.22 sec\n",
      "88.93%: 1.53 sec\n",
      "90.43%: 1.35 sec\n",
      "91.94%: 1.61 sec\n",
      "93.45%: 1.35 sec\n",
      "94.96%: 1.57 sec\n",
      "96.46%: 1.42 sec\n",
      "97.97%: 1.41 sec\n",
      "99.48%: 0.72 sec\n",
      "0:01:39.84\n",
      "\n",
      "We have 1000000 playlists\n"
     ]
    }
   ],
   "source": [
    "time_0 = time()\n",
    "# R_list = make_R_list_sql(conn, pid_limit=10000, progress=10)\n",
    "R_list = make_R_list_sql(conn, pid_limit=None, progress=10)\n",
    "time_end = time()\n",
    "\n",
    "print(str( timedelta(seconds=time_end-time_0) )[:-4])\n",
    "print()\n",
    "\n",
    "num_playlists_0 = len(np.unique(R_list[:,0]))\n",
    "print(f'We have {num_playlists_0} playlists')"
   ]
  },
  {
   "cell_type": "markdown",
   "id": "bccf849e",
   "metadata": {},
   "source": [
    "Make train-test split"
   ]
  },
  {
   "cell_type": "code",
   "execution_count": 5,
   "id": "9fa99017",
   "metadata": {},
   "outputs": [
    {
     "name": "stdout",
     "output_type": "stream",
     "text": [
      "Verify the following two lists are equal\n",
      "to ensure we're always using the same train-val-test split\n",
      "[597571 679779 758502  28851 480077 430444 982068]\n",
      "[597571 679779 758502  28851 480077 430444 982068]\n"
     ]
    }
   ],
   "source": [
    "# Percentage of the total database to reserve for validation and testing\n",
    "val_size_abs = 0.15\n",
    "test_size    = 0.15\n",
    "shuffle = True\n",
    "\n",
    "# Note: the first pid_train contains (1-test_size) percent of the data.\n",
    "# We need to use val_size so that val_size*(1-test_size) = val_size_abs.\n",
    "val_size = val_size_abs/(1-test_size)\n",
    "pid_train_full, pid_test_0 = train_test_split(np.arange(num_playlists_0), test_size=test_size,\n",
    "                                       shuffle=shuffle, random_state=11)\n",
    "pid_train,      pid_val_0  = train_test_split(pid_train_full, test_size=val_size,\n",
    "                                       shuffle=shuffle, random_state=11)\n",
    "\n",
    "# Show the first few entries of pid_train\n",
    "print('Verify the following two lists are equal')\n",
    "print('to ensure we\\'re always using the same train-val-test split')\n",
    "print(pid_train[:7])\n",
    "print(np.array([597571, 679779, 758502, 28851, 480077, 430444, 982068]))"
   ]
  },
  {
   "cell_type": "markdown",
   "id": "e9f19ece",
   "metadata": {},
   "source": [
    "Get the tracks present in the training set"
   ]
  },
  {
   "cell_type": "code",
   "execution_count": 6,
   "id": "a5af41df",
   "metadata": {},
   "outputs": [
    {
     "name": "stdout",
     "output_type": "stream",
     "text": [
      "Number of training playlists: 700000\n",
      "Number of training songs: 1903758\n"
     ]
    }
   ],
   "source": [
    "R_list_train = R_list[ np.isin(R_list[:,0], pid_train), :]\n",
    "tid_train = np.unique( R_list_train[:,1] )\n",
    "tid_to_idx, _ = list_to_dict(tid_train)\n",
    "\n",
    "num_playlists = len(pid_train)\n",
    "num_songs = len(tid_train)\n",
    "\n",
    "print('Number of training playlists:', num_playlists)\n",
    "print('Number of training songs:', num_songs)\n",
    "\n",
    "# Delete the whole list (we don't use it again)\n",
    "# del R_list"
   ]
  },
  {
   "cell_type": "markdown",
   "id": "2897e8b4",
   "metadata": {},
   "source": [
    "Process the validation/test sets"
   ]
  },
  {
   "cell_type": "code",
   "execution_count": 7,
   "id": "b7af2fae",
   "metadata": {},
   "outputs": [],
   "source": [
    "# Reduce the size of the val/test sets to make testing times more feasible\n",
    "pid_val = pid_val_0[:5000]\n",
    "R_list_val   = R_list[ np.isin(R_list[:,0], pid_val),   :]\n",
    "tid_val   = np.unique( R_list_val[:,1]   )\n",
    "\n",
    "pid_test = pid_test_0[:10000]\n",
    "R_list_test  = R_list[ np.isin(R_list[:,0], pid_test),  :]\n",
    "tid_test  = np.unique( R_list_test[:,1]  )\n",
    "\n",
    "# Remove tracks we don't know from the validation and test sets\n",
    "# Create new arrays with consecutive tids\n",
    "# And store the dicts to go from the original pid-tid labeling to the new consecutive indexing\n",
    "# _,           R_idx_train, _,   _  = format_new_R_list(R_list_train, tid_to_idx)\n",
    "R_list_val,  R_idx_val,   _,   _  = format_new_R_list(R_list_val,  tid_to_idx)\n",
    "R_list_test, R_idx_test,  pid_to_idx_test,  idx_to_pid_test  = format_new_R_list(R_list_test,  tid_to_idx)"
   ]
  },
  {
   "cell_type": "markdown",
   "id": "973f246b",
   "metadata": {},
   "source": [
    "# Evaluate the performance of a trained model"
   ]
  },
  {
   "cell_type": "markdown",
   "id": "778ffd3a",
   "metadata": {},
   "source": [
    "Choose trained model"
   ]
  },
  {
   "cell_type": "code",
   "execution_count": 8,
   "id": "bb15febe",
   "metadata": {},
   "outputs": [],
   "source": [
    "file_name = 'models/Q_trained_full_20_feats.npy'\n",
    "Q_trained = np.load(file_name)\n",
    "\n",
    "f = Q_trained.shape[1]"
   ]
  },
  {
   "cell_type": "markdown",
   "id": "2d8049e1",
   "metadata": {},
   "source": [
    "Generate a matrix $P_{\\text{test}}$ so that $R_{\\text{test}} = P_{\\text{test}} \\cdot Q_{\\text{trained}}$, and compute $\\text{MSE}_{\\text{test}}$."
   ]
  },
  {
   "cell_type": "code",
   "execution_count": 9,
   "id": "d21ebf33",
   "metadata": {},
   "outputs": [
    {
     "name": "stdout",
     "output_type": "stream",
     "text": [
      "Done: 16.676 sec\n",
      "MSE on test set: 0.03545\n"
     ]
    }
   ],
   "source": [
    "# Initialize random data\n",
    "P_initial = np.random.normal(0, 0.1, (num_playlists, f))\n",
    "Q_initial = np.random.normal(0, 0.1, (num_songs, f))\n",
    "\n",
    "# Construct a P matrix for the test playlists and compute MSE\n",
    "start_time = time()\n",
    "P_test = make_Pval(R_idx_test, Q_trained, 10**-3)\n",
    "mse_test = MSE(R_idx_test, P_test, Q_trained)\n",
    "end_time = time()\n",
    "print('Done: {:.3f} sec'.format(end_time-start_time))\n",
    "\n",
    "print('MSE on test set: {:.5f}'.format(mse_test))"
   ]
  },
  {
   "cell_type": "markdown",
   "id": "e1a8199c",
   "metadata": {},
   "source": [
    "For reference, we also compute $\\text{MSE}_{\\text{val}}$."
   ]
  },
  {
   "cell_type": "code",
   "execution_count": 10,
   "id": "608a25f3",
   "metadata": {},
   "outputs": [
    {
     "name": "stdout",
     "output_type": "stream",
     "text": [
      "Done: 3.806 sec\n",
      "MSE on val set: 0.03642\n"
     ]
    }
   ],
   "source": [
    "# Initialize random data\n",
    "P_initial = np.random.normal(0, 0.1, (num_playlists, f))\n",
    "Q_initial = np.random.normal(0, 0.1, (num_songs, f))\n",
    "\n",
    "# Construct a P matrix for the test playlists and compute MSE\n",
    "start_time = time()\n",
    "P_val = make_Pval(R_idx_val, Q_trained, 10**-3)\n",
    "mse_val = MSE(R_idx_val, P_val, Q_trained)\n",
    "end_time = time()\n",
    "print('Done: {:.3f} sec'.format(end_time-start_time))\n",
    "\n",
    "print('MSE on val set: {:.5f}'.format(mse_val))"
   ]
  },
  {
   "cell_type": "code",
   "execution_count": null,
   "id": "87b6dbf9",
   "metadata": {},
   "outputs": [],
   "source": []
  }
 ],
 "metadata": {
  "kernelspec": {
   "display_name": "Python 3 (ipykernel)",
   "language": "python",
   "name": "python3"
  },
  "language_info": {
   "codemirror_mode": {
    "name": "ipython",
    "version": 3
   },
   "file_extension": ".py",
   "mimetype": "text/x-python",
   "name": "python",
   "nbconvert_exporter": "python",
   "pygments_lexer": "ipython3",
   "version": "3.11.5"
  }
 },
 "nbformat": 4,
 "nbformat_minor": 5
}
