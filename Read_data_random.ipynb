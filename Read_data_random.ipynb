{
 "cells": [
  {
   "cell_type": "code",
   "execution_count": null,
   "id": "7946dfb4-2a6d-472f-ba45-f964d09caa9c",
   "metadata": {},
   "outputs": [],
   "source": [
    "import numpy as np\n",
    "import pandas as pd\n",
    "import json\n",
    "import copy"
   ]
  },
  {
   "cell_type": "code",
   "execution_count": null,
   "id": "4466efd3-3262-451b-8aa1-b40871472175",
   "metadata": {},
   "outputs": [],
   "source": [
    "# n is the number of json files we wish to read (max is 1000)\n",
    "# this sets n to randomly draw from the 1000 json files, with size indicating how many\n",
    "# json files you want\n",
    "\n",
    "# uncomment the following line to ensure you get the same json files when running the code\n",
    "#np.random.seed(110)\n",
    "n = np.random.randint(1001, size = 5)\n",
    "\n",
    "\n",
    "for i in (n):\n",
    "    file_name = '../spotify_million_playlist_dataset/data/mpd.slice.' \\\n",
    "    + str(i*1000) \\\n",
    "    + \"-\" + str(i*1000+999) + '.json'\n",
    "\n",
    "    #uncomment the following line to show progress\n",
    "    print(file_name)\n",
    "\n",
    "    #open the file and store its contents in file_contets\n",
    "    with open(file_name) as user_file:\n",
    "        file_contents = user_file.read()\n",
    "\n",
    "    # only care about the \"playlists\" part of dictionatry\n",
    "    # save the list of playlists in playlist_list\n",
    "    parsed_json = json.loads(file_contents)\n",
    "    playlist_list = parsed_json['playlists']\n",
    "\n",
    "    # create dataframe if it's first playlist, otherwise append info to existing dataframe\n",
    "    # the record_path argument tells the json_normalize function how to flatten the data\n",
    "    # the meta argument tells the json_normalize function what meta data to keep\n",
    "\n",
    "    if i == min(n):\n",
    "        data = pd.json_normalize(\n",
    "            playlist_list, \n",
    "            record_path = 'tracks', \n",
    "            meta = ['name', 'collaborative', 'pid', 'num_followers', 'num_edits']\n",
    "        )\n",
    "    else:\n",
    "        data = pd.concat([data,\n",
    "                          pd.json_normalize(\n",
    "                              playlist_list,\n",
    "                              record_path = 'tracks', \n",
    "                              meta = ['name', 'collaborative', 'pid', 'num_followers', 'num_edits']\n",
    "                          )\n",
    "                         ], \n",
    "                         ignore_index = True\n",
    "                        )\n",
    "\n",
    "# For some reason reading in the data creates a new column called pos so I delete it here\n",
    "data = data.drop(columns = ['pos'])"
   ]
  }
 ],
 "metadata": {
  "kernelspec": {
   "display_name": "Python 3 (ipykernel)",
   "language": "python",
   "name": "python3"
  },
  "language_info": {
   "codemirror_mode": {
    "name": "ipython",
    "version": 3
   },
   "file_extension": ".py",
   "mimetype": "text/x-python",
   "name": "python",
   "nbconvert_exporter": "python",
   "pygments_lexer": "ipython3",
   "version": "3.11.4"
  }
 },
 "nbformat": 4,
 "nbformat_minor": 5
}
