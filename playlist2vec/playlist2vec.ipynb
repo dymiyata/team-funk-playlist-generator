{
 "cells": [
  {
   "cell_type": "markdown",
   "id": "6c56a9ca-c672-4d8d-a014-4b495f36d8e7",
   "metadata": {},
   "source": [
    "## Load packages and data"
   ]
  },
  {
   "cell_type": "code",
   "execution_count": 1,
   "id": "9b2da703-530a-4859-a17f-7816f564c94f",
   "metadata": {},
   "outputs": [],
   "source": [
    "# remove hashtag and run code below to install packages\n",
    "\n",
    "#!pip install -U sentence-transformers\n",
    "#!pip install --user annoy"
   ]
  },
  {
   "cell_type": "code",
   "execution_count": 2,
   "id": "6c2bfaa2-2b3b-4567-b22d-64bf89c074aa",
   "metadata": {},
   "outputs": [],
   "source": [
    "import numpy as np\n",
    "import pandas as pd\n",
    "import json\n",
    "import copy\n",
    "import time\n",
    "import sqlalchemy as db\n",
    "from sklearn.model_selection import train_test_split\n",
    "\n",
    "from annoy import AnnoyIndex\n",
    "from sentence_transformers import SentenceTransformer\n",
    "model = SentenceTransformer('all-MiniLM-L6-v2')"
   ]
  },
  {
   "cell_type": "code",
   "execution_count": 5,
   "metadata": {},
   "outputs": [],
   "source": [
    "val_size_abs = 0.15\n",
    "test_size    = 0.15\n",
    "shuffle = True\n",
    "\n",
    "# Note: the first pid_train contains (1-test_size) percent of the data.\n",
    "# We need to use val_size so that val_size*(1-test_size) = val_size_abs.\n",
    "val_size = val_size_abs/(1-test_size)\n",
    "pid_train, pid_test = train_test_split(range(10**6), test_size=test_size,\n",
    "                                       shuffle=shuffle, random_state=11)\n",
    "pid_train, pid_val  = train_test_split(pid_train, test_size=val_size,\n",
    "                                       shuffle=shuffle, random_state=11)"
   ]
  },
  {
   "cell_type": "code",
   "execution_count": null,
   "metadata": {},
   "outputs": [],
   "source": []
  },
  {
   "cell_type": "markdown",
   "id": "2f60778c",
   "metadata": {},
   "source": [
    "# Generate playlist vectors using sentence transformers and load into annoy index\n"
   ]
  },
  {
   "cell_type": "code",
   "execution_count": 4,
   "id": "d3582d17",
   "metadata": {},
   "outputs": [],
   "source": [
    "####use SQL to generate a list of pid's in training set\n",
    "# pid_train = []"
   ]
  },
  {
   "cell_type": "code",
   "execution_count": 10,
   "metadata": {},
   "outputs": [],
   "source": [
    "\n",
    "import sqlalchemy as db\n",
    "engine = db.create_engine(\"sqlite:///../spotify_sql.db\")\n",
    "conn = engine.connect()"
   ]
  },
  {
   "cell_type": "code",
   "execution_count": 27,
   "metadata": {},
   "outputs": [
    {
     "data": {
      "text/plain": [
       "'Throwbacks'"
      ]
     },
     "execution_count": 27,
     "metadata": {},
     "output_type": "execute_result"
    }
   ],
   "source": [
    "\n",
    "pid = 0\n",
    "query = f\"SELECT * FROM playlists WHERE pid=0\"\n",
    "mydf = pd.read_sql_query(query, conn)\n",
    "mydf['name'].values[0]"
   ]
  },
  {
   "cell_type": "code",
   "execution_count": 9,
   "id": "0b8b52f2",
   "metadata": {},
   "outputs": [],
   "source": [
    "#dimension of vectors the model uses\n",
    "f = model.get_sentence_embedding_dimension()\n",
    "\n",
    "#build database we will load vectors in\n",
    "#angular means we are using cosine similarty metric\n",
    "t = AnnoyIndex(f , 'angular')"
   ]
  },
  {
   "cell_type": "code",
   "execution_count": 28,
   "id": "b7692a4c",
   "metadata": {},
   "outputs": [],
   "source": [
    "for pid in pid_train:\n",
    "    #use SQL to pull name of playlist of given pid\n",
    "    #store in the variable name pid_name\n",
    "\n",
    "    query = f\"SELECT * FROM playlists WHERE pid={pid}\"\n",
    "    pid_name = pd.read_sql_query(query, conn)['name'].values[0]\n",
    "    \n",
    "    #construct vector from playlist name\n",
    "    v = model.encode(pid_name.lower().strip())\n",
    "    \n",
    "    #add playlist to annot\n",
    "    t.add_item(pid, v)"
   ]
  },
  {
   "cell_type": "code",
   "execution_count": 29,
   "id": "4daf1e40",
   "metadata": {},
   "outputs": [
    {
     "data": {
      "text/plain": [
       "True"
      ]
     },
     "execution_count": 29,
     "metadata": {},
     "output_type": "execute_result"
    }
   ],
   "source": [
    "#number of trees for search\n",
    "t.build(1024)\n",
    "t.save('playlist_vectors.ann')"
   ]
  },
  {
   "cell_type": "code",
   "execution_count": null,
   "metadata": {},
   "outputs": [],
   "source": []
  }
 ],
 "metadata": {
  "kernelspec": {
   "display_name": "Python 3 (ipykernel)",
   "language": "python",
   "name": "python3"
  },
  "language_info": {
   "codemirror_mode": {
    "name": "ipython",
    "version": 3
   },
   "file_extension": ".py",
   "mimetype": "text/x-python",
   "name": "python",
   "nbconvert_exporter": "python",
   "pygments_lexer": "ipython3",
   "version": "3.11.5"
  }
 },
 "nbformat": 4,
 "nbformat_minor": 5
}
