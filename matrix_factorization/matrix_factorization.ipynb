{
 "cells": [
  {
   "cell_type": "code",
   "execution_count": 38,
   "metadata": {},
   "outputs": [],
   "source": [
    "import numpy as np\n",
    "import pandas as pd\n",
    "import json\n",
    "import copy\n"
   ]
  },
  {
   "cell_type": "code",
   "execution_count": 2,
   "metadata": {},
   "outputs": [],
   "source": [
    "# n is the number of json files we wish to read (max is 1000)\n",
    "n = 5\n",
    "\n",
    "for i in range(n):\n",
    "    # create the file_name string in order to read in file\n",
    "    file_name = '../spotify_million_playlist_dataset/data/mpd.slice.' \\\n",
    "        + str(i*1000) \\\n",
    "        + '-' + str(i*1000+999) + '.json'\n",
    "    \n",
    "    # Uncomment the following line to show progress\n",
    "    # print(file_name)\n",
    "\n",
    "    # open the file and store its contents in file_contents\n",
    "    with open(file_name) as user_file:\n",
    "        file_contents = user_file.read()\n",
    "\n",
    "    # we only care about the \"playlists\" part of this dictionary\n",
    "    # save the list of playlists in playlist_list\n",
    "    parsed_json = json.loads(file_contents)\n",
    "    playlist_list = parsed_json[\"playlists\"]\n",
    "\n",
    "\n",
    "    # create dataframe if it's first playlist, otherwise append info to existing dataframe\n",
    "    # the record_path argument tells the json_normalize function how to flatten the data\n",
    "    # the meta argument tells the json_nomralize function what meta data to keep\n",
    "    if i == 0:\n",
    "        data = pd.json_normalize(\n",
    "            playlist_list,\n",
    "            record_path = \"tracks\",\n",
    "            meta = [\"name\", \"collaborative\", \"pid\", \"num_followers\", \"num_edits\"]\n",
    "        ) \n",
    "    else:\n",
    "        data = pd.concat( \n",
    "            [\n",
    "                data,\n",
    "                pd.json_normalize(\n",
    "                    playlist_list,\n",
    "                    record_path = \"tracks\",\n",
    "                    meta = [\"name\", \"collaborative\", \"pid\", \"num_followers\", \"num_edits\"]\n",
    "                )\n",
    "            ],     \n",
    "            ignore_index = True\n",
    "        )\n",
    "\n",
    "# For some reason reading in the data creates a new column called pos so I delete it here\n",
    "data =data.drop(columns=['pos'])"
   ]
  },
  {
   "cell_type": "code",
   "execution_count": 31,
   "metadata": {},
   "outputs": [],
   "source": [
    "# dictionary to translate track uri's to integer indices\n",
    "def make_track_dict(df): \n",
    "    result = {}\n",
    "    i = 0\n",
    "    for uri in pd.unique(df['track_uri']):\n",
    "        result[uri] = i\n",
    "        i += 1\n",
    "    return result\n",
    "\n",
    "# create the big array R consisting of 1's and 0's. I didn't end up using this\n",
    "def make_R(df): \n",
    "    m = len(pd.unique(df['pid']))\n",
    "    n = len(pd.unique(df['track_uri']))\n",
    "    track_dict = make_track_dict(df)\n",
    "\n",
    "    result = np.zeros([m,n])\n",
    "    for index , row in df.iterrows():\n",
    "        result[row['pid'], track_dict[row['track_uri']]] = 1\n",
    "    return result\n",
    "\n",
    "# create list of tuples where recommendation array should have a 1\n",
    "# i.e. if (2,18) is in this list, then playlist 2 contains track 18\n",
    "def make_R_list(df): \n",
    "    result = []\n",
    "    track_dict = make_track_dict(df)\n",
    "    for index , row in df.iterrows():\n",
    "        result.append((row['pid'], track_dict[row['track_uri']]))\n",
    "    return result\n",
    "\n",
    "# use gradient descent to minimize MSE (with l2 regularization)\n",
    "def update_params_loop(R_list, P, Q, alpha, llambda): \n",
    "    newP = P.copy() \n",
    "    newQ = Q.copy()\n",
    "    m , f = np.shape(P)\n",
    "    n = np.shape(Q)[0]\n",
    "\n",
    "    for u,i in R_list:\n",
    "        newP[u,:] -= alpha * 2 * (P[u,:] @ Q[i,:] - 1) * Q[i,:]\n",
    "        newQ[i,:] -= alpha * 2 * (P[u,:] @ Q[i,:] - 1) * P[u,:]\n",
    "    for u in range(m):\n",
    "        newP[u,:] -= alpha * 2 * llambda * P[u,:]\n",
    "    for i in range(n):\n",
    "        newQ[i,:] -= alpha * 2 * llambda * Q[i,:]\n",
    "    return (newP, newQ)"
   ]
  },
  {
   "cell_type": "code",
   "execution_count": 17,
   "metadata": {},
   "outputs": [],
   "source": [
    "R_list = make_R_list(data)\n",
    "\n",
    "f = 3 # number of latent features\n",
    "\n",
    "# initialize random values for matrices P and Q\n",
    "P = np.random.rand(np.shape(R)[0], f)\n",
    "Q = np.random.rand(np.shape(R)[1], f)"
   ]
  },
  {
   "cell_type": "code",
   "execution_count": 60,
   "metadata": {},
   "outputs": [
    {
     "name": "stdout",
     "output_type": "stream",
     "text": [
      "0\n",
      "10\n",
      "20\n",
      "30\n",
      "40\n",
      "50\n",
      "60\n",
      "70\n",
      "80\n",
      "90\n"
     ]
    }
   ],
   "source": [
    "# Run the gradient descent algorithm \n",
    "P_current = P.copy()\n",
    "Q_current = Q.copy()\n",
    "for i in range(100):\n",
    "    if i % 10 == 0:\n",
    "        print(i)\n",
    "    P_current , Q_current = update_params_loop(R_list, P_current, Q_current, 0.1, 0.25)"
   ]
  },
  {
   "cell_type": "code",
   "execution_count": null,
   "metadata": {},
   "outputs": [],
   "source": [
    "# Get indices for Yesterday and Help! by the Beatles\n",
    "track_dict = make_track_dict(data)\n",
    "yesterday_index = track_dict['spotify:track:1e0hllQ23AG0QGFgezgLOq']\n",
    "help_index = track_dict['spotify:track:7DD7eSuYSC5xk2ArU62esN'])\n",
    "\n",
    "# They have very different vectors before training\n",
    "print(Q[yesterday_index,:])\n",
    "print(Q[help_index,:])\n",
    "\n",
    "# They have very similar vectors after training, but Track 10000 is very different\n",
    "print(Q_current[yesterday_index,:])\n",
    "print(Q_current[help_index,:])\n",
    "print(Q_current[10000,:])"
   ]
  },
  {
   "cell_type": "code",
   "execution_count": null,
   "metadata": {},
   "outputs": [],
   "source": []
  },
  {
   "cell_type": "code",
   "execution_count": null,
   "metadata": {},
   "outputs": [],
   "source": []
  },
  {
   "cell_type": "code",
   "execution_count": null,
   "metadata": {},
   "outputs": [],
   "source": []
  },
  {
   "cell_type": "code",
   "execution_count": null,
   "metadata": {},
   "outputs": [],
   "source": []
  },
  {
   "cell_type": "code",
   "execution_count": null,
   "metadata": {},
   "outputs": [],
   "source": []
  }
 ],
 "metadata": {
  "kernelspec": {
   "display_name": "Python 3",
   "language": "python",
   "name": "python3"
  },
  "language_info": {
   "codemirror_mode": {
    "name": "ipython",
    "version": 3
   },
   "file_extension": ".py",
   "mimetype": "text/x-python",
   "name": "python",
   "nbconvert_exporter": "python",
   "pygments_lexer": "ipython3",
   "version": "3.11.5"
  }
 },
 "nbformat": 4,
 "nbformat_minor": 2
}
