{
 "cells": [
  {
   "cell_type": "code",
   "execution_count": 1,
   "id": "fa690bb2-c8cb-41b2-9c91-f4bec1797318",
   "metadata": {},
   "outputs": [],
   "source": [
    "import mysql.connector\n",
    "import json\n",
    "import os\n",
    "from datetime import datetime"
   ]
  },
  {
   "cell_type": "code",
   "execution_count": 2,
   "id": "969b2657-68ab-4f3a-90c3-df96f4848511",
   "metadata": {},
   "outputs": [],
   "source": [
    "# connecting to MySQL database\n",
    "db = mysql.connector.connect(\n",
    "    host='localhost',\n",
    "    user='root',\n",
    "    password='root1234',\n",
    "    database='spotify_rec'\n",
    ")\n",
    "\n",
    "cursor = db.cursor()"
   ]
  },
  {
   "cell_type": "code",
   "execution_count": 3,
   "id": "e4d8be8e-eebb-46b1-a35e-0739232b38fd",
   "metadata": {},
   "outputs": [],
   "source": [
    "# Function to insert playlist data into the Playlists table \n",
    "def insert_playlist(cursor, playlist):\n",
    "    # Convert Unix timestamp to datetime\n",
    "    modified_at_datetime = datetime.utcfromtimestamp(int(playlist[\"modified_at\"]))\n",
    "\n",
    "    sql = \"INSERT IGNORE INTO Playlists (name, collaborative, pid, modified_at, num_tracks, num_albums, num_followers) VALUES (%s, %s, %s, %s, %s, %s, %s)\"\n",
    "    cursor.execute(sql, (\n",
    "        playlist[\"name\"],\n",
    "        1 if playlist[\"collaborative\"].lower() == \"true\" else 0,\n",
    "        playlist[\"pid\"],\n",
    "        modified_at_datetime.strftime('%Y-%m-%d %H:%M:%S'),\n",
    "        playlist[\"num_tracks\"],\n",
    "        playlist[\"num_albums\"],\n",
    "        playlist[\"num_followers\"]\n",
    "    ))\n",
    "    return cursor.lastrowid\n",
    "\n",
    "# Function to insert track data into the Tracks table\n",
    "def insert_track(cursor, track, playlist_pid):\n",
    "    sql = \"INSERT IGNORE INTO Tracks (pos, track_name, artist_name, track_uri, artist_uri, album_uri, duration_ms, album_name, pid) VALUES (%s, %s, %s, %s, %s, %s, %s, %s, %s)\"\n",
    "    cursor.execute(sql, (\n",
    "        track[\"pos\"],\n",
    "        track[\"track_name\"],\n",
    "        track[\"artist_name\"],\n",
    "        track[\"track_uri\"],\n",
    "        track[\"artist_uri\"],\n",
    "        track[\"album_uri\"],\n",
    "        track[\"duration_ms\"],\n",
    "        track[\"album_name\"],\n",
    "        playlist_pid\n",
    "    ))\n",
    "    return cursor.lastrowid\n"
   ]
  },
  {
   "cell_type": "code",
   "execution_count": 4,
   "id": "11a75eb9-2fa1-40b4-9edd-85533db6aea8",
   "metadata": {
    "tags": []
   },
   "outputs": [],
   "source": [
    "data_folder = \"/Users/kashishmehta/Library/CloudStorage/OneDrive-RutgersUniversity/spotify_million_playlist_dataset/data\"\n"
   ]
  },
  {
   "cell_type": "code",
   "execution_count": null,
   "id": "3ab7de18-f7ab-4ef0-90d4-64d98d30909d",
   "metadata": {},
   "outputs": [],
   "source": [
    "# Create a list of JSON file names\n",
    "json_files = [filename for filename in os.listdir(data_folder) if filename.endswith(\".json\")]\n",
    "\n",
    "# Sort JSON files in order\n",
    "json_files.sort()\n",
    "\n",
    "# Limit to the first 200 files\n",
    "json_files = json_files[:200]\n",
    "\n",
    "# Iterate through the selected JSON files\n",
    "for json_file in json_files:\n",
    "    \n",
    "    json_file_path = os.path.join(data_folder, json_file)\n",
    "\n",
    "    # Load and process each JSON file\n",
    "    with open(json_file_path) as json_file:\n",
    "        data = json.load(json_file)\n",
    "\n",
    "        for playlist in data[\"playlists\"]:\n",
    "            # Insert playlist data into the Playlists table \n",
    "            playlist_pid = insert_playlist(cursor, playlist)\n",
    "\n",
    "            for track in playlist[\"tracks\"]:\n",
    "                # Insert track data into the Tracks table\n",
    "                insert_track(cursor, track, playlist_pid)\n",
    "\n"
   ]
  },
  {
   "cell_type": "code",
   "execution_count": null,
   "id": "cf7463a1-290f-42f0-87ec-1d94bdb24940",
   "metadata": {},
   "outputs": [],
   "source": [
    "# close the database connection\n",
    "db.commit()\n",
    "cursor.close()\n",
    "db.close()"
   ]
  },
  {
   "cell_type": "code",
   "execution_count": null,
   "id": "9699acc0-e382-4e30-9185-6b3550d3989d",
   "metadata": {},
   "outputs": [],
   "source": []
  }
 ],
 "metadata": {
  "kernelspec": {
   "display_name": "Python 3 (ipykernel)",
   "language": "python",
   "name": "python3"
  },
  "language_info": {
   "codemirror_mode": {
    "name": "ipython",
    "version": 3
   },
   "file_extension": ".py",
   "mimetype": "text/x-python",
   "name": "python",
   "nbconvert_exporter": "python",
   "pygments_lexer": "ipython3",
   "version": "3.9.12"
  }
 },
 "nbformat": 4,
 "nbformat_minor": 5
}
