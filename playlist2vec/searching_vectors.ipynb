{
 "cells": [
  {
   "cell_type": "code",
   "execution_count": 1,
   "id": "177d8b95",
   "metadata": {},
   "outputs": [],
   "source": [
    "import json\n",
    "import pandas as pd\n",
    "import numpy as np\n",
    "from annoy import AnnoyIndex\n",
    "from sentence_transformers import SentenceTransformer\n",
    "model = SentenceTransformer('all-MiniLM-L6-v2')"
   ]
  },
  {
   "cell_type": "code",
   "execution_count": 68,
   "id": "348acc4f",
   "metadata": {},
   "outputs": [],
   "source": [
    "f=model.get_sentence_embedding_dimension()\n",
    "\n",
    "t= AnnoyIndex(f, 'angular')"
   ]
  },
  {
   "cell_type": "code",
   "execution_count": 69,
   "id": "71cfd17e",
   "metadata": {},
   "outputs": [
    {
     "data": {
      "text/plain": [
       "1000000"
      ]
     },
     "execution_count": 69,
     "metadata": {},
     "output_type": "execute_result"
    }
   ],
   "source": [
    "t.load('playlist_vectors.ann')\n",
    "t.get_n_items()"
   ]
  },
  {
   "cell_type": "markdown",
   "id": "1ff38a38",
   "metadata": {},
   "source": [
    "# Searching example"
   ]
  },
  {
   "cell_type": "code",
   "execution_count": 95,
   "id": "94823ced",
   "metadata": {},
   "outputs": [],
   "source": [
    "search = 'workout'"
   ]
  },
  {
   "cell_type": "code",
   "execution_count": 96,
   "id": "04b0cee8",
   "metadata": {},
   "outputs": [],
   "source": [
    "#function takes in a string and out puts pid's in a list\n",
    "#the size of the output list is variable\n",
    "#if there are many results which match the query exactly then it will increase the size of the list\n",
    "def search_playlist_titles(query):\n",
    "    #generate search vector\n",
    "    v_search = model.encode(search.lower())\n",
    "    \n",
    "    pid_nns, dist = t.get_nns_by_vector(v_search, 10000, search_k = 100000, include_distances = True )\n",
    "    \n",
    "    #find first nonzero distance\n",
    "    i = 0 \n",
    "    while dist[i] == 0.0:\n",
    "        i = i +1\n",
    "\n",
    "    if i < 25:\n",
    "        return pid_nns[:25]\n",
    "    else:\n",
    "        return pid_nns[:i]\n",
    "    \n",
    "    "
   ]
  },
  {
   "cell_type": "code",
   "execution_count": 100,
   "id": "a1642ae7",
   "metadata": {
    "scrolled": true
   },
   "outputs": [],
   "source": [
    "pid_nns = search_playlist_titles(search)"
   ]
  },
  {
   "cell_type": "code",
   "execution_count": 101,
   "id": "e5b62c30",
   "metadata": {},
   "outputs": [
    {
     "data": {
      "text/plain": [
       "8343"
      ]
     },
     "execution_count": 101,
     "metadata": {},
     "output_type": "execute_result"
    }
   ],
   "source": [
    "len(pid_nns)"
   ]
  },
  {
   "cell_type": "code",
   "execution_count": null,
   "id": "81b80c22",
   "metadata": {},
   "outputs": [],
   "source": []
  }
 ],
 "metadata": {
  "kernelspec": {
   "display_name": "Python 3 (ipykernel)",
   "language": "python",
   "name": "python3"
  },
  "language_info": {
   "codemirror_mode": {
    "name": "ipython",
    "version": 3
   },
   "file_extension": ".py",
   "mimetype": "text/x-python",
   "name": "python",
   "nbconvert_exporter": "python",
   "pygments_lexer": "ipython3",
   "version": "3.11.4"
  }
 },
 "nbformat": 4,
 "nbformat_minor": 5
}
