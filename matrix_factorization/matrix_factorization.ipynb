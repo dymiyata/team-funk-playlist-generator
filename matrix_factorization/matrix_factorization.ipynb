{
 "cells": [
  {
   "cell_type": "code",
   "execution_count": 3,
   "metadata": {},
   "outputs": [],
   "source": [
    "import numpy as np\n",
    "import pandas as pd\n",
    "import json\n",
    "import copy\n",
    "import random"
   ]
  },
  {
   "cell_type": "code",
   "execution_count": 4,
   "metadata": {},
   "outputs": [],
   "source": [
    "# n is the number of json files we wish to read (max is 1000)\n",
    "n = 5\n",
    "\n",
    "for i in range(n):\n",
    "    # create the file_name string in order to read in file\n",
    "    file_name = '../spotify_million_playlist_dataset/data/mpd.slice.' \\\n",
    "        + str(i*1000) \\\n",
    "        + '-' + str(i*1000+999) + '.json'\n",
    "    \n",
    "    # Uncomment the following line to show progress\n",
    "    # print(file_name)\n",
    "\n",
    "    # open the file and store its contents in file_contents\n",
    "    with open(file_name) as user_file:\n",
    "        file_contents = user_file.read()\n",
    "\n",
    "    # we only care about the \"playlists\" part of this dictionary\n",
    "    # save the list of playlists in playlist_list\n",
    "    parsed_json = json.loads(file_contents)\n",
    "    playlist_list = parsed_json[\"playlists\"]\n",
    "\n",
    "\n",
    "    # create dataframe if it's first playlist, otherwise append info to existing dataframe\n",
    "    # the record_path argument tells the json_normalize function how to flatten the data\n",
    "    # the meta argument tells the json_nomralize function what meta data to keep\n",
    "    if i == 0:\n",
    "        data = pd.json_normalize(\n",
    "            playlist_list,\n",
    "            record_path = \"tracks\",\n",
    "            meta = [\"name\", \"collaborative\", \"pid\", \"num_followers\", \"num_edits\"]\n",
    "        ) \n",
    "    else:\n",
    "        data = pd.concat( \n",
    "            [\n",
    "                data,\n",
    "                pd.json_normalize(\n",
    "                    playlist_list,\n",
    "                    record_path = \"tracks\",\n",
    "                    meta = [\"name\", \"collaborative\", \"pid\", \"num_followers\", \"num_edits\"]\n",
    "                )\n",
    "            ],     \n",
    "            ignore_index = True\n",
    "        )\n",
    "\n",
    "# For some reason reading in the data creates a new column called pos so I delete it here\n",
    "data =data.drop(columns=['pos'])"
   ]
  },
  {
   "cell_type": "code",
   "execution_count": null,
   "metadata": {},
   "outputs": [],
   "source": [
    "# dictionary to translate track uri's to integer indices\n",
    "def make_track_dict(df): \n",
    "    result = {}\n",
    "    i = 0\n",
    "    for uri in pd.unique(df['track_uri']):\n",
    "        result[uri] = i\n",
    "        i += 1\n",
    "    return result\n",
    "\n",
    "# create the big array R consisting of 1's and 0's. I didn't end up using this\n",
    "def make_R(df): \n",
    "    m = len(pd.unique(df['pid']))\n",
    "    n = len(pd.unique(df['track_uri']))\n",
    "    track_dict = make_track_dict(df)\n",
    "\n",
    "    result = np.zeros([m,n])\n",
    "    for index , row in df.iterrows():\n",
    "        result[row['pid'], track_dict[row['track_uri']]] = 1\n",
    "    return result\n",
    "\n",
    "# create list of tuples where recommendation array should have a 1\n",
    "# i.e. if (2,18) is in this list, then playlist 2 contains track 18\n",
    "def make_R_list(df): \n",
    "    result = []\n",
    "    track_dict = make_track_dict(df)\n",
    "    for index , row in df.iterrows():\n",
    "        result.append((row['pid'], track_dict[row['track_uri']]))\n",
    "    return result\n",
    "\n",
    "# use gradient descent to minimize MSE (with l2 regularization)\n",
    "def update_params_loop(R_list, P, Q, alpha, llambda): \n",
    "    newP = P \n",
    "    newQ = Q\n",
    "    m , f = np.shape(P)\n",
    "    n = np.shape(Q)[0]\n",
    "\n",
    "    for u,i in R_list:\n",
    "        newP[u,:] -= alpha * 2 * (P[u,:] @ Q[i,:] - 1) * Q[i,:]\n",
    "        newQ[i,:] -= alpha * 2 * (P[u,:] @ Q[i,:] - 1) * P[u,:]\n",
    "    for u in range(m):\n",
    "        newP[u,:] -= alpha * 2 * llambda * P[u,:]\n",
    "    for i in range(n):\n",
    "        newQ[i,:] -= alpha * 2 * llambda * Q[i,:]\n",
    "    return (newP, newQ)\n",
    "\n",
    "#runs the gradient descent loop in batches\n",
    "def gd_batch(R_list, P, Q, alpha, llambda, batch_num, iterations, R = None, verbose=False): \n",
    "    #make copies of P and Q\n",
    "    P_current = P.copy()\n",
    "    Q_current = Q.copy()\n",
    "    \n",
    "    #shuffle R_list\n",
    "    #divide R_list into batch_num subsets\n",
    "    random.shuffle(R_list)\n",
    "    batch_size = int(np.ceil(len(R_list)/batch_num))\n",
    "    R_batch = [R_list[i:i+batch_size] for i in range(0,len(R_list), batch_size) ]\n",
    "   \n",
    "    #loop over total iterations\n",
    "    for i in range(iterations):\n",
    "        #if verbose == true print out error function\n",
    "        if verbose:\n",
    "            print(f'Step {i*batch_num}: Error function={error_function(R_list,R , P_current, Q_current)}')\n",
    "        #loop over batch_num\n",
    "        for batch in R_batch:\n",
    "            #run update_param_loop on batch\n",
    "            P_current , Q_current = update_params_loop(batch, P_current, Q_current, alpha, llambda)\n",
    "            \n",
    "    return (P_current , Q_current)\n",
    "\n",
    "#error function without l2 normalization factor\n",
    "def error_function( R_list,R, P , Q ):\n",
    "    result = 0\n",
    "    #sum over R_list\n",
    "    for row, col in R_list:\n",
    "        result = result + (R[row,col] - P[row,:]@Q[col,:])**2 \n",
    "\n",
    "    return result\n"
   ]
  },
  {
   "cell_type": "markdown",
   "metadata": {},
   "source": [
    "# Initial exploration"
   ]
  },
  {
   "cell_type": "code",
   "execution_count": null,
   "metadata": {},
   "outputs": [],
   "source": [
    "R_list = make_R_list(data)\n",
    "\n",
    "f = 3 # number of latent features\n",
    "\n",
    "# initialize random values for matrices P and Q\n",
    "P = np.random.rand(np.shape(R)[0], f)\n",
    "Q = np.random.rand(np.shape(R)[1], f)"
   ]
  },
  {
   "cell_type": "code",
   "execution_count": null,
   "metadata": {},
   "outputs": [],
   "source": [
    "# Run the gradient descent algorithm \n",
    "P_current = P.copy()\n",
    "Q_current = Q.copy()\n",
    "for i in range(100):\n",
    "    if i % 10 == 0:\n",
    "        print(i)\n",
    "    P_current , Q_current = update_params_loop(R_list, P_current, Q_current, 0.1, 0.25)"
   ]
  },
  {
   "cell_type": "code",
   "execution_count": null,
   "metadata": {},
   "outputs": [],
   "source": [
    "# Get indices for Yesterday and Help! by the Beatles\n",
    "track_dict = make_track_dict(data)\n",
    "yesterday_index = track_dict['spotify:track:1e0hllQ23AG0QGFgezgLOq']\n",
    "help_index = track_dict['spotify:track:7DD7eSuYSC5xk2ArU62esN'])\n",
    "\n",
    "# They have very different vectors before training\n",
    "print(Q[yesterday_index,:])\n",
    "print(Q[help_index,:])\n",
    "\n",
    "# They have very similar vectors after training, but Track 10000 is very different\n",
    "print(Q_current[yesterday_index,:])\n",
    "print(Q_current[help_index,:])\n",
    "print(Q_current[10000,:])"
   ]
  },
  {
   "cell_type": "markdown",
   "metadata": {},
   "source": [
    "# Testing batch or not"
   ]
  },
  {
   "cell_type": "code",
   "execution_count": 6,
   "metadata": {},
   "outputs": [],
   "source": [
    "import time"
   ]
  },
  {
   "cell_type": "code",
   "execution_count": 20,
   "metadata": {},
   "outputs": [],
   "source": [
    "batch_num = 5 #how many batches subdivide R_list into\n",
    "iterations = 20 #how many times each batch gets run. Total steps = batch_num*iterations\n"
   ]
  },
  {
   "cell_type": "code",
   "execution_count": 21,
   "metadata": {},
   "outputs": [],
   "source": [
    "R = make_R(data)\n",
    "R_list = make_R_list(data)"
   ]
  },
  {
   "cell_type": "code",
   "execution_count": 22,
   "metadata": {},
   "outputs": [],
   "source": [
    "f = 3 # number of latent features\n",
    "P = np.random.rand(np.shape(R)[0], f)\n",
    "Q = np.random.rand(np.shape(R)[1], f)"
   ]
  },
  {
   "cell_type": "code",
   "execution_count": 23,
   "metadata": {},
   "outputs": [
    {
     "name": "stdout",
     "output_type": "stream",
     "text": [
      "Step 0: Error Function=69729.45827299704\n",
      "Step 10: Error Function=2633.8024770489474\n",
      "Step 20: Error Function=2323.6476452364022\n",
      "Step 30: Error Function=2184.148127061852\n",
      "Step 40: Error Function=2104.2149873031876\n",
      "Step 50: Error Function=2049.629981392706\n",
      "Step 60: Error Function=2038.2251146629299\n",
      "Step 70: Error Function=1998.3455449263297\n",
      "Step 80: Error Function=1994.5357177718254\n",
      "Step 90: Error Function=1972.954489078316\n",
      "Gradient descent took 131.72564816474915 seconds to run\n",
      "\n"
     ]
    }
   ],
   "source": [
    "#run gradient descent\n",
    "t0 = time.time()\n",
    "\n",
    "P_gd = P.copy()\n",
    "Q_gd = Q.copy()\n",
    "for i in range(100):\n",
    "    if i % 10 == 0:\n",
    "        print(f'Step {i}: Error Function={error_function(R_list,R,P_gd,Q_gd)}')\n",
    "    P_gd , Q_gd = update_params_loop(R_list, P_gd, Q_gd, 0.1, 0.25)\n",
    "    \n",
    "t1 = time.time()   \n",
    "\n",
    "print(f'Gradient descent took {t1-t0} seconds to run')\n",
    "print()\n"
   ]
  },
  {
   "cell_type": "code",
   "execution_count": 24,
   "metadata": {},
   "outputs": [
    {
     "name": "stdout",
     "output_type": "stream",
     "text": [
      "Step 0: Error function=69729.45827299508\n",
      "Step 5: Error function=8355.514746055096\n",
      "Step 10: Error function=4567.872230635358\n",
      "Step 15: Error function=2738.973398451681\n",
      "Step 20: Error function=1735.3831738618026\n",
      "Step 25: Error function=1118.2781580204976\n",
      "Step 30: Error function=735.0277343368789\n",
      "Step 35: Error function=472.1509129252549\n",
      "Step 40: Error function=314.7716689939038\n",
      "Step 45: Error function=209.7706008732556\n",
      "Step 50: Error function=144.83689177673233\n",
      "Step 55: Error function=101.9548847372596\n",
      "Step 60: Error function=74.55999513682674\n",
      "Step 65: Error function=55.88294842639376\n",
      "Step 70: Error function=44.474014794833685\n",
      "Step 75: Error function=36.337518435694754\n",
      "Step 80: Error function=31.277600474226908\n",
      "Step 85: Error function=27.510811093487085\n",
      "Step 90: Error function=25.17093593121125\n",
      "Step 95: Error function=23.142003592726446\n",
      "Batch gradient descent took 43.44975686073303 seconds to run\n",
      "\n"
     ]
    }
   ],
   "source": [
    "#run batch GD\n",
    "t0= time.time()\n",
    "P_batch, Q_batch = gd_batch(R_list, P , Q , .1, .01, batch_num, iterations, R , verbose=True)\n",
    "t1=time.time()\n",
    "\n",
    "print(f'Batch gradient descent took {t1-t0} seconds to run')\n",
    "print()"
   ]
  },
  {
   "cell_type": "code",
   "execution_count": 25,
   "metadata": {},
   "outputs": [
    {
     "name": "stdout",
     "output_type": "stream",
     "text": [
      "The error for gradient descent is 1965.448499815883\n",
      "\n",
      "The error for batch gradient descent is 22.04733570033638\n"
     ]
    }
   ],
   "source": [
    "###error function for GD\n",
    "err_gd = error_function(R_list, R, P_gd, Q_gd)\n",
    "\n",
    "print(f'The error for gradient descent is {err_gd}')\n",
    "print()\n",
    "\n",
    "#error function on Batch\n",
    "err_batch = error_function(R_list, R , P_batch, Q_batch)\n",
    "print(f'The error for batch gradient descent is {err_batch}')"
   ]
  },
  {
   "cell_type": "code",
   "execution_count": null,
   "metadata": {},
   "outputs": [],
   "source": []
  },
  {
   "cell_type": "code",
   "execution_count": 67,
   "metadata": {},
   "outputs": [
    {
     "data": {
      "text/plain": [
       "0.0"
      ]
     },
     "execution_count": 67,
     "metadata": {},
     "output_type": "execute_result"
    }
   ],
   "source": []
  },
  {
   "cell_type": "code",
   "execution_count": null,
   "metadata": {},
   "outputs": [],
   "source": []
  }
 ],
 "metadata": {
  "kernelspec": {
   "display_name": "Python 3 (ipykernel)",
   "language": "python",
   "name": "python3"
  },
  "language_info": {
   "codemirror_mode": {
    "name": "ipython",
    "version": 3
   },
   "file_extension": ".py",
   "mimetype": "text/x-python",
   "name": "python",
   "nbconvert_exporter": "python",
   "pygments_lexer": "ipython3",
   "version": "3.11.4"
  }
 },
 "nbformat": 4,
 "nbformat_minor": 2
}
