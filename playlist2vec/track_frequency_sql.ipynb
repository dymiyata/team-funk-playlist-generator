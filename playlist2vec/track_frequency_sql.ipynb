{
 "cells": [
  {
   "cell_type": "markdown",
   "id": "1dd77260-6e6c-49cc-adf9-66832b141309",
   "metadata": {},
   "source": [
    "#  Top 10 tracks\n",
    "takes in list of pids and returns the top 10 tracks (defined as the most frequently occuring tracks across the list of playlists) using the sql database"
   ]
  },
  {
   "cell_type": "code",
   "execution_count": 1,
   "id": "7e1e27e7-dd1e-4373-836d-f087825e17f8",
   "metadata": {},
   "outputs": [],
   "source": [
    "import sqlalchemy as db\n",
    "import pandas as pd"
   ]
  },
  {
   "cell_type": "code",
   "execution_count": 2,
   "id": "98fc9ef4-e82b-4819-999f-376f93b67e22",
   "metadata": {},
   "outputs": [],
   "source": [
    "# this code assumes the following: 1) the variable pid_nns contains a list of pid numbers that are the result of the\n",
    "# playlist2vec algorithm and 2) the sql database has been created and can be queried\n",
    "\n",
    "#create engine and connect to sqlite database\n",
    "engine = db.create_engine(\"sqlite:///spotify_mpd.db\")\n",
    "conn = engine.connect()"
   ]
  },
  {
   "cell_type": "code",
   "execution_count": 3,
   "id": "582c980a-56bc-4225-ab1f-113fb92bba60",
   "metadata": {},
   "outputs": [],
   "source": [
    "# turn list of pids in pid_nns into str so it can be used in sql query\n",
    "\n",
    "# remove hashes to use test set of pids\n",
    "#pid_nns = [97228, 616461, 459916, 238861, 328167, 415900, 18732, 24285, 273824, 415108, 553672, 38225, 232498, 508452, 149232,\n",
    "           #659219, 282275, 415234, 648796, 858713, 217067, 508233, 543295, 38064, 259834, 508893, 245491, 508668, 114795, \n",
    "           #616712, 580005, 38649, 218295, 508249, 139097, 659081, 631583, 858442, 132771, 616984]\n",
    "pid_nns_str = \",\".join(map(str, pid_nns))"
   ]
  },
  {
   "cell_type": "code",
   "execution_count": 4,
   "id": "0c7b07ba-8cfa-4f18-bf23-0c6ca99b464d",
   "metadata": {},
   "outputs": [],
   "source": [
    "# sql query selects pids from playlist table that occur in in pid_nns, then joins those rows from playlist table to \n",
    "# pairings table on pid key value, groups results by track_uri, counts the number of times each track_uri appears, and orders\n",
    "# results by descending value so most frequent track_uris appear at top. Query is turned into an F string (formatted string)\n",
    "# so it we can embed variable holding list of pids\n",
    "\n",
    "ordered_tracks = conn.execute(f\"SELECT pairings.track_uri, COUNT(*) as frequency FROM pairings INNER JOIN playlists on playlists.pid = pairings.pid WHERE playlists.pid IN ({pid_nns_str}) GROUP BY pairings.track_uri ORDER BY frequency DESC\")\n",
    "results = ordered_tracks.fetchall()"
   ]
  },
  {
   "cell_type": "code",
   "execution_count": 5,
   "id": "a770f580-4ef0-40e4-9e2d-0beb3f43b013",
   "metadata": {},
   "outputs": [],
   "source": [
    "# go through results from sql query and take the top 10 results, than turn those results into a list of strings\n",
    "# that can be called in the next sql query\n",
    "top_10 = [row[0] for row in results[:10]]\n",
    "top_10_str = \",\".join(f\"'{uri}'\" for uri in top_10)"
   ]
  },
  {
   "cell_type": "code",
   "execution_count": 6,
   "id": "947b444d-5dd4-4b4a-b664-7f27ec44a1b2",
   "metadata": {},
   "outputs": [
    {
     "data": {
      "text/plain": [
       "[('spotify:track:0XUfyU2QviPAs6bxSpXYG4', 'Yeah!', 'Usher'),\n",
       " ('spotify:track:1lzr43nnXAijIGYnCT8M8H', \"It Wasn't Me\", 'Shaggy'),\n",
       " ('spotify:track:3Bjr9MzHM7KHk6zq7KvJRN', 'Love Myself', 'Hailee Steinfeld'),\n",
       " ('spotify:track:3hB5DgAiMAQ4DzYbsMq1IT', 'Love Yourself', 'Justin Bieber'),\n",
       " ('spotify:track:4Pwjz3DfvfQWV0rO2V8jyh', 'Bitch, Don’t Kill My Vibe', 'Kendrick Lamar'),\n",
       " ('spotify:track:5dNfHmqgr128gMY2tc5CeJ', 'Ignition - Remix', 'R. Kelly'),\n",
       " ('spotify:track:66hayvUbTotekKU3H4ta1f', 'Where Are Ü Now (with Justin Bieber)', 'Jack Ü'),\n",
       " ('spotify:track:6Knv6wdA0luoMUuuoYi2i1', 'My House', 'Flo Rida'),\n",
       " ('spotify:track:7KXjTSCq5nL1LoYtL7XAwS', 'HUMBLE.', 'Kendrick Lamar'),\n",
       " ('spotify:track:7vFoFDWqTX0mHzLfrF1Cfy', 'Cheerleader - Felix Jaehn Remix Radio Edit', 'OMI')]"
      ]
     },
     "execution_count": 6,
     "metadata": {},
     "output_type": "execute_result"
    }
   ],
   "source": [
    "# sql query takes list of top 10 track_uris and returns track_uri, track_name, artist_name from tracks table. \n",
    "# This sql query also uses an F string\n",
    "top_10_info = conn.execute(f\"SELECT track_uri, track_name, artist_name FROM tracks where track_uri IN ({top_10_str})\")\n",
    "top_10_info.fetchall()"
   ]
  },
  {
   "cell_type": "code",
   "execution_count": null,
   "id": "60e5fbde-d050-4a61-bbe2-3ecd485731c3",
   "metadata": {},
   "outputs": [],
   "source": []
  }
 ],
 "metadata": {
  "kernelspec": {
   "display_name": "Python 3 (ipykernel)",
   "language": "python",
   "name": "python3"
  },
  "language_info": {
   "codemirror_mode": {
    "name": "ipython",
    "version": 3
   },
   "file_extension": ".py",
   "mimetype": "text/x-python",
   "name": "python",
   "nbconvert_exporter": "python",
   "pygments_lexer": "ipython3",
   "version": "3.11.4"
  }
 },
 "nbformat": 4,
 "nbformat_minor": 5
}
