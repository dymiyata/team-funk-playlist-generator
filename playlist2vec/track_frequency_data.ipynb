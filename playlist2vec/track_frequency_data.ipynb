{
 "cells": [
  {
   "cell_type": "markdown",
   "id": "fa1b28e3-b414-417a-990d-57d0b7103009",
   "metadata": {},
   "source": [
    "# Top 10 tracks\n",
    "\n",
    "takes in list of pids and returns the top 10 tracks (defined as the most frequently occuring tracks across the list of playlists) using the million song data set. Separate code needed to load up json files"
   ]
  },
  {
   "cell_type": "code",
   "execution_count": 1,
   "id": "30fbe481-7e32-4945-b1a9-28d35c4a5fe2",
   "metadata": {},
   "outputs": [],
   "source": [
    "import numpy as np\n",
    "import pandas as pd\n",
    "import json\n",
    "import copy"
   ]
  },
  {
   "cell_type": "code",
   "execution_count": 29,
   "id": "40c7243f-f3a8-4e56-9e58-de751a4664cd",
   "metadata": {},
   "outputs": [],
   "source": [
    "# remove hashes to test code with randomly generated list of pids\n",
    "#pid_vectorlist = data[\"pid\"].sample(30)\n",
    "#pid_nns = data.loc[data[\"pid\"].isin(pid_vectorlist)]"
   ]
  },
  {
   "cell_type": "code",
   "execution_count": 25,
   "id": "210b4d5c-7c22-419c-821f-ba8e83953d25",
   "metadata": {},
   "outputs": [],
   "source": [
    "## Functions to process list of pids stored in pid_nns variable from playlist2vec. \n",
    "# Function uses aggregate capabilities of df.groupby. Groups data by track_uri and then\n",
    "## creates a new df with aggregate columns. containing unique number of pids each track_uri appears in\n",
    "## and a second aggregate column that returns a list of those playlists.\n",
    "\n",
    "def song_in_pids(df):\n",
    "    song_pid_count= df.groupby(\"track_uri\").agg(\n",
    "        ##create aggregate column with unique number of pids the track_uri appears in\n",
    "        unique_pid_count = pd.NamedAgg(column = \"pid\", aggfunc = \"nunique\"), \n",
    "        ## using __builtins__.list to avoid error in case list gets assigned to a variable\n",
    "        pid_list = pd.NamedAgg(column = \"pid\", aggfunc = lambda x: __builtins__.list(set(x)))\n",
    "    ).reset_index()\n",
    "\n",
    "     ## makes sure returned database is sorted in descending order with the highest counts at the top\n",
    "    return song_pid_count.sort_values(by = \"unique_pid_count\", ascending = False)"
   ]
  },
  {
   "cell_type": "code",
   "execution_count": 30,
   "id": "e0b679ee-ffac-4ce4-9e5d-606343af02a1",
   "metadata": {},
   "outputs": [],
   "source": [
    "## return top 10 values in sorted database and store in song_frequency variable\n",
    "song_frequency = song_in_pids(pid_nns)[:10]\n",
    "\n",
    "## convert top 10 track_uri's from sorted database to list\n",
    "uri_list = song_frequency[\"track_uri\"].tolist()"
   ]
  },
  {
   "cell_type": "code",
   "execution_count": 31,
   "id": "5771bd3e-d24a-4342-88e7-d31978c4e887",
   "metadata": {},
   "outputs": [],
   "source": [
    "## function to iterate through list, find first instance in full database, and record corresponding track_name \n",
    "## and artist name to list. Returns list of track_names and artist_names\n",
    "\n",
    "def get_track_info(uri_list, df ):\n",
    "    results = []\n",
    "    for uri in uri_list: \n",
    "        matching_rows = df[df[\"track_uri\"] == uri]\n",
    "        if not matching_rows.empty:\n",
    "            row = matching_rows.iloc[0]\n",
    "            track_name = row[\"track_name\"]\n",
    "            artist_name = row[\"artist_name\"]\n",
    "            results.append((track_name, artist_name))\n",
    "    return results"
   ]
  },
  {
   "cell_type": "code",
   "execution_count": 32,
   "id": "81db6682-4d89-48d0-bf91-5516c67fd4e2",
   "metadata": {},
   "outputs": [
    {
     "data": {
      "text/plain": [
       "[('IV. sweatpants', 'Childish Gambino'),\n",
       " ('Trap Queen', 'Fetty Wap'),\n",
       " ('V. 3005', 'Childish Gambino'),\n",
       " (\"Can't Feel My Face\", 'The Weeknd'),\n",
       " ('Low Life', 'Future'),\n",
       " ('Post To Be (feat. Chris Brown & Jhene Aiko)', 'Omarion'),\n",
       " ('No Problem (feat. Lil Wayne & 2 Chainz)', 'Chance The Rapper'),\n",
       " ('Tunnel Vision', 'Kodak Black'),\n",
       " ('Needed Me', 'Rihanna'),\n",
       " ('Redbone', 'Childish Gambino')]"
      ]
     },
     "execution_count": 32,
     "metadata": {},
     "output_type": "execute_result"
    }
   ],
   "source": [
    "get_track_info(uri_list, data)"
   ]
  },
  {
   "cell_type": "code",
   "execution_count": null,
   "id": "1a9b5a35-a691-4702-83c5-e535598cc298",
   "metadata": {},
   "outputs": [],
   "source": []
  }
 ],
 "metadata": {
  "kernelspec": {
   "display_name": "Python 3 (ipykernel)",
   "language": "python",
   "name": "python3"
  },
  "language_info": {
   "codemirror_mode": {
    "name": "ipython",
    "version": 3
   },
   "file_extension": ".py",
   "mimetype": "text/x-python",
   "name": "python",
   "nbconvert_exporter": "python",
   "pygments_lexer": "ipython3",
   "version": "3.11.4"
  }
 },
 "nbformat": 4,
 "nbformat_minor": 5
}
