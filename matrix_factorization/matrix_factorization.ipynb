{
 "cells": [
  {
   "cell_type": "markdown",
   "metadata": {
    "colab_type": "text",
    "id": "view-in-github"
   },
   "source": [
    "<a href=\"https://colab.research.google.com/github/dymiyata/erdos2023_million_playlist_challenge/blob/master/matrix_factorization/matrix_factorization.ipynb\" target=\"_parent\"><img src=\"https://colab.research.google.com/assets/colab-badge.svg\" alt=\"Open In Colab\"/></a>"
   ]
  },
  {
   "cell_type": "code",
   "execution_count": 1,
   "metadata": {
    "id": "JZtDAeafHyXf"
   },
   "outputs": [],
   "source": [
    "import numpy as np\n",
    "import pandas as pd\n",
    "import json\n",
    "from numba import njit\n",
    "\n",
    "import sqlalchemy as db\n",
    "\n",
    "from time import time\n",
    "from datetime import timedelta\n",
    "\n",
    "import matplotlib.pyplot as plt\n",
    "from sklearn.model_selection import train_test_split"
   ]
  },
  {
   "cell_type": "code",
   "execution_count": null,
   "metadata": {},
   "outputs": [],
   "source": [
    "# Load functions\n",
    "from functions import *"
   ]
  },
  {
   "cell_type": "markdown",
   "metadata": {
    "id": "mRfZHGotHyXh"
   },
   "source": [
    "# Training the Model"
   ]
  },
  {
   "cell_type": "markdown",
   "metadata": {},
   "source": [
    "Load the SQL database"
   ]
  },
  {
   "cell_type": "code",
   "execution_count": 6,
   "metadata": {},
   "outputs": [],
   "source": [
    "db_path = \"sqlite:///../MPD_sql.db\"\n",
    "engine = db.create_engine(db_path)\n",
    "conn = engine.connect()"
   ]
  },
  {
   "cell_type": "code",
   "execution_count": 7,
   "metadata": {},
   "outputs": [
    {
     "name": "stdout",
     "output_type": "stream",
     "text": [
      "1.51%: 2.95 sec\n",
      "3.01%: 1.65 sec\n",
      "4.52%: 1.42 sec\n",
      "6.03%: 1.41 sec\n",
      "7.54%: 1.41 sec\n",
      "9.04%: 1.45 sec\n",
      "10.55%: 1.45 sec\n",
      "12.06%: 1.44 sec\n",
      "13.57%: 1.46 sec\n",
      "15.07%: 1.41 sec\n",
      "16.58%: 1.42 sec\n",
      "18.09%: 1.60 sec\n",
      "19.59%: 1.42 sec\n",
      "21.10%: 1.44 sec\n",
      "22.61%: 1.46 sec\n",
      "24.12%: 1.40 sec\n",
      "25.62%: 1.38 sec\n",
      "27.13%: 1.36 sec\n",
      "28.64%: 1.33 sec\n",
      "30.14%: 1.55 sec\n",
      "31.65%: 1.36 sec\n",
      "33.16%: 1.35 sec\n",
      "34.67%: 1.56 sec\n",
      "36.17%: 1.39 sec\n",
      "37.68%: 1.37 sec\n",
      "39.19%: 1.36 sec\n",
      "40.70%: 1.56 sec\n",
      "42.20%: 1.40 sec\n",
      "43.71%: 1.39 sec\n",
      "45.22%: 1.38 sec\n",
      "46.72%: 1.36 sec\n",
      "48.23%: 1.60 sec\n",
      "49.74%: 1.41 sec\n",
      "51.25%: 1.42 sec\n",
      "52.75%: 1.16 sec\n",
      "54.26%: 1.52 sec\n",
      "55.77%: 1.33 sec\n",
      "57.28%: 1.55 sec\n",
      "58.78%: 1.59 sec\n",
      "60.29%: 1.42 sec\n",
      "61.80%: 1.41 sec\n",
      "63.30%: 1.16 sec\n",
      "64.81%: 1.52 sec\n",
      "66.32%: 1.33 sec\n",
      "67.83%: 1.52 sec\n",
      "69.33%: 1.62 sec\n",
      "70.84%: 1.41 sec\n",
      "72.35%: 1.41 sec\n",
      "73.85%: 1.15 sec\n",
      "75.36%: 1.52 sec\n",
      "76.87%: 1.34 sec\n",
      "78.38%: 1.54 sec\n",
      "79.88%: 1.60 sec\n",
      "81.39%: 1.41 sec\n",
      "82.90%: 1.41 sec\n",
      "84.41%: 1.15 sec\n",
      "85.91%: 1.52 sec\n",
      "87.42%: 1.32 sec\n",
      "88.93%: 1.54 sec\n",
      "90.43%: 1.59 sec\n",
      "91.94%: 1.40 sec\n",
      "93.45%: 1.41 sec\n",
      "94.96%: 1.16 sec\n",
      "96.46%: 1.55 sec\n",
      "97.97%: 1.30 sec\n",
      "99.48%: 0.87 sec\n",
      "0:01:37.20\n",
      "\n",
      "We have 1000000 playlists\n"
     ]
    }
   ],
   "source": [
    "time_0 = time()\n",
    "# R_list = make_R_list_sql(conn, pid_limit=10000, progress=10)\n",
    "R_list = make_R_list_sql(conn, pid_limit=None, progress=10)\n",
    "time_end = time()\n",
    "\n",
    "print(str( timedelta(seconds=time_end-time_0) )[:-4])\n",
    "print()\n",
    "\n",
    "num_playlists_0 = len(np.unique(R_list[:,0]))\n",
    "print(f'We have {num_playlists_0} playlists')"
   ]
  },
  {
   "cell_type": "markdown",
   "metadata": {},
   "source": [
    "Create train-test split"
   ]
  },
  {
   "cell_type": "code",
   "execution_count": 8,
   "metadata": {},
   "outputs": [
    {
     "name": "stdout",
     "output_type": "stream",
     "text": [
      "Verify the following two lists are equal:\n",
      "[597571 679779 758502  28851 480077 430444 982068]\n",
      "[597571 679779 758502  28851 480077 430444 982068]\n"
     ]
    }
   ],
   "source": [
    "# Percentage of the total database to reserve for validation and testing\n",
    "val_size_abs = 0.15\n",
    "test_size    = 0.15\n",
    "shuffle = True\n",
    "\n",
    "# Note: the first pid_train contains (1-test_size) percent of the data.\n",
    "# We need to use val_size so that val_size*(1-test_size) = val_size_abs.\n",
    "val_size = val_size_abs/(1-test_size)\n",
    "pid_train, pid_test = train_test_split(np.arange(num_playlists_0), test_size=test_size,\n",
    "                                       shuffle=shuffle, random_state=11)\n",
    "pid_train, pid_val  = train_test_split(pid_train, test_size=val_size,\n",
    "                                       shuffle=shuffle, random_state=11)\n",
    "\n",
    "# Show the first few entries of pid_train\n",
    "print('Verify the following two lists are equal')\n",
    "print('to ensure we\\'re always using the same train-val-test split')\n",
    "print(pid_train[:7])\n",
    "print(np.array([597571, 679779, 758502, 28851, 480077, 430444, 982068]))"
   ]
  },
  {
   "cell_type": "code",
   "execution_count": 9,
   "metadata": {},
   "outputs": [],
   "source": [
    "# Reduce the size of the validation set to make training times small enough\n",
    "pid_val = pid_val[:5000]"
   ]
  },
  {
   "cell_type": "code",
   "execution_count": 10,
   "metadata": {},
   "outputs": [
    {
     "name": "stdout",
     "output_type": "stream",
     "text": [
      "Number of training playlists: 700000\n",
      "Number of training songs: 1903758\n"
     ]
    }
   ],
   "source": [
    "R_list_train = R_list[ np.isin(R_list[:,0], pid_train), :]\n",
    "R_list_val   = R_list[ np.isin(R_list[:,0], pid_val),   :]\n",
    "# R_list_test  = R_list[ np.isin(R_list[:,0], pid_test),  :]\n",
    "\n",
    "# Store the track id of songs in the train/val/test sets\n",
    "tid_train = np.unique( R_list_train[:,1] )\n",
    "tid_val   = np.unique( R_list_val[:,1]   )\n",
    "# tid_test  = np.unique( R_list_test[:,1]  )\n",
    "\n",
    "num_playlists = len(pid_train)\n",
    "num_songs = len(tid_train)\n",
    "\n",
    "print('Number of training playlists:', num_playlists)\n",
    "print('Number of training songs:', num_songs)\n",
    "\n",
    "# Delete the whole list (we don't use it again)\n",
    "# del R_list"
   ]
  },
  {
   "cell_type": "markdown",
   "metadata": {},
   "source": [
    "We create new variables so that the `tid`s in the `R_idx_*` match with the indices of tracks in the `Q` matrix everywhere"
   ]
  },
  {
   "cell_type": "code",
   "execution_count": 11,
   "metadata": {},
   "outputs": [],
   "source": [
    "tid_to_idx, _ = list_to_dict(tid_train)\n",
    "\n",
    "# Remove tracks we don't know from the validation and test sets\n",
    "# Create new arrays with consecutive tids\n",
    "# And store the dicts to go from the original pid-tid labeling to the new consecutive indexing\n",
    "_,           R_idx_train, _,   _  = format_new_R_list(R_list_train, tid_to_idx)\n",
    "R_list_val,  R_idx_val,   _,   _  = format_new_R_list(R_list_val,  tid_to_idx)\n",
    "# R_list_test, R_idx_test,  pid_to_idx_test,  idx_to_pid_test  = format_new_R_list(R_list_test,  tid_to_idx)"
   ]
  },
  {
   "cell_type": "markdown",
   "metadata": {},
   "source": [
    "# Example of training the algorithm"
   ]
  },
  {
   "cell_type": "markdown",
   "metadata": {},
   "source": [
    "Specify the number of features and create matrices $P$ and $Q$ whose entries are randomly taken from a normal distribution with $\\mu = 0$ and $\\sigma = 0.1$."
   ]
  },
  {
   "cell_type": "code",
   "execution_count": 20,
   "metadata": {},
   "outputs": [],
   "source": [
    "f = 5 # number of latent features\n",
    "# num_songs = max(reverse_track_dict.keys()) + 1\n",
    "num_songs = len(tid_train)\n",
    "num_playlists = len(pid_train)\n",
    "\n",
    "# initialize random values for matrices P and Q. Entries are between -1 and 1\n",
    "P = np.random.normal(0, 0.1, (num_playlists, f))\n",
    "Q = np.random.normal(0, 0.1, (num_songs, f))"
   ]
  },
  {
   "cell_type": "markdown",
   "metadata": {},
   "source": [
    "Run the gradient descent algorithm and store the resulting matrices in P_trained and Q_trained."
   ]
  },
  {
   "cell_type": "code",
   "execution_count": 21,
   "metadata": {
    "id": "b_nyoRWcHyXi"
   },
   "outputs": [
    {
     "name": "stdout",
     "output_type": "stream",
     "text": [
      "Training done: 1909.982 sec\n"
     ]
    }
   ],
   "source": [
    "# Run gradient descent algorithm with alpha = 0.001, llambda = 0.005 for 100 iterations\n",
    "start_time = time()\n",
    "P_trained, Q_trained = run_epoch(R_idx_train, P, Q, 0.001, 0.001, 1000)\n",
    "end_time = time()\n",
    "print('Training done: {:.3f} sec'.format(end_time-start_time))"
   ]
  },
  {
   "cell_type": "markdown",
   "metadata": {},
   "source": [
    "For our fixed Q, given a list of (new) playlist ids, we can compute the P matrix that minimizes the training error"
   ]
  },
  {
   "cell_type": "code",
   "execution_count": 22,
   "metadata": {},
   "outputs": [
    {
     "name": "stdout",
     "output_type": "stream",
     "text": [
      "MSE: nan\n",
      "Done: 3.673 sec\n"
     ]
    }
   ],
   "source": [
    "# Check the error on the validation set\n",
    "start_time = time()\n",
    "P_val = make_Pval(R_idx_val, Q_trained, 0.005)\n",
    "print('MSE:', MSE(R_idx_val, P_val, Q_trained))\n",
    "end_time = time()\n",
    "\n",
    "print('Done: {:.3f} sec'.format(end_time-start_time))"
   ]
  },
  {
   "cell_type": "markdown",
   "metadata": {},
   "source": [
    "# Find best hyperparameters using grid search"
   ]
  },
  {
   "cell_type": "code",
   "execution_count": 13,
   "metadata": {
    "scrolled": false
   },
   "outputs": [
    {
     "name": "stdout",
     "output_type": "stream",
     "text": [
      "Processing 1/4:\n",
      "(1,1,1)/(4,1,1)\n",
      "Training:   0:28:45.66\n",
      "Saving:     0:00:00.03\n",
      "Total time: 0:28:45.70\n",
      "\n",
      "Processing 2/4:\n",
      "(2,1,1)/(4,1,1)\n",
      "Training:   0:47:19.90\n",
      "Saving:     0:00:00.03\n",
      "Total time: 1:16:05.65\n",
      "\n",
      "Processing 3/4:\n",
      "(3,1,1)/(4,1,1)\n",
      "Training:   1:04:38.14\n",
      "Saving:     0:00:00.07\n",
      "Total time: 2:20:43.87\n",
      "\n",
      "Processing 4/4:\n",
      "(4,1,1)/(4,1,1)\n",
      "Training:   1:10:13.36\n",
      "Saving:     0:00:00.10\n",
      "Total time: 3:30:57.33\n",
      "\n"
     ]
    }
   ],
   "source": [
    "# Hyperparameter tuning using grid search\n",
    "NUM_ITERATIONS = 1000\n",
    "\n",
    "# Specify the number of latent features (f), learning rate (alpha), and regularization parameter (llambda)\n",
    "f_values = np.arange(5,25,5)\n",
    "alpha_values = np.array([10**-4])\n",
    "llambda_values = np.array([10**-3])\n",
    "# llambda_values = 10.**np.arange(-5,-1)\n",
    "costs = grid_search(f_values, alpha_values, llambda_values, NUM_ITERATIONS)"
   ]
  },
  {
   "cell_type": "code",
   "execution_count": 14,
   "metadata": {},
   "outputs": [
    {
     "name": "stdout",
     "output_type": "stream",
     "text": [
      "Additional parameters:\n",
      "Alpha values: [0.0001]\n",
      "llambda values: [0.001]\n"
     ]
    },
    {
     "data": {
      "image/png": "[encoded data removed]",
      "text/plain": [
       "<Figure size 640x480 with 1 Axes>"
      ]
     },
     "metadata": {},
     "output_type": "display_data"
    }
   ],
   "source": [
    "plot_grid_search(costs, f_values, alpha_values, llambda_values)"
   ]
  },
  {
   "cell_type": "code",
   "execution_count": null,
   "metadata": {},
   "outputs": [],
   "source": []
  }
 ],
 "metadata": {
  "colab": {
   "include_colab_link": true,
   "provenance": []
  },
  "kernelspec": {
   "display_name": "Python 3 (ipykernel)",
   "language": "python",
   "name": "python3"
  },
  "language_info": {
   "codemirror_mode": {
    "name": "ipython",
    "version": 3
   },
   "file_extension": ".py",
   "mimetype": "text/x-python",
   "name": "python",
   "nbconvert_exporter": "python",
   "pygments_lexer": "ipython3",
   "version": "3.11.5"
  }
 },
 "nbformat": 4,
 "nbformat_minor": 4
}
