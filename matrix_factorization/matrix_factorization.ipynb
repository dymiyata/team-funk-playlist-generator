{
 "cells": [
  {
   "cell_type": "code",
   "execution_count": 38,
   "metadata": {},
   "outputs": [],
   "source": [
    "import numpy as np\n",
    "import pandas as pd\n",
    "import json\n",
    "import copy\n"
   ]
  },
  {
   "cell_type": "code",
   "execution_count": 2,
   "metadata": {},
   "outputs": [],
   "source": [
    "# n is the number of json files we wish to read (max is 1000)\n",
    "n = 5\n",
    "\n",
    "for i in range(n):\n",
    "    # create the file_name string in order to read in file\n",
    "    file_name = '../spotify_million_playlist_dataset/data/mpd.slice.' \\\n",
    "        + str(i*1000) \\\n",
    "        + '-' + str(i*1000+999) + '.json'\n",
    "    \n",
    "    # Uncomment the following line to show progress\n",
    "    # print(file_name)\n",
    "\n",
    "    # open the file and store its contents in file_contents\n",
    "    with open(file_name) as user_file:\n",
    "        file_contents = user_file.read()\n",
    "\n",
    "    # we only care about the \"playlists\" part of this dictionary\n",
    "    # save the list of playlists in playlist_list\n",
    "    parsed_json = json.loads(file_contents)\n",
    "    playlist_list = parsed_json[\"playlists\"]\n",
    "\n",
    "\n",
    "    # create dataframe if it's first playlist, otherwise append info to existing dataframe\n",
    "    # the record_path argument tells the json_normalize function how to flatten the data\n",
    "    # the meta argument tells the json_nomralize function what meta data to keep\n",
    "    if i == 0:\n",
    "        data = pd.json_normalize(\n",
    "            playlist_list,\n",
    "            record_path = \"tracks\",\n",
    "            meta = [\"name\", \"collaborative\", \"pid\", \"num_followers\", \"num_edits\"]\n",
    "        ) \n",
    "    else:\n",
    "        data = pd.concat( \n",
    "            [\n",
    "                data,\n",
    "                pd.json_normalize(\n",
    "                    playlist_list,\n",
    "                    record_path = \"tracks\",\n",
    "                    meta = [\"name\", \"collaborative\", \"pid\", \"num_followers\", \"num_edits\"]\n",
    "                )\n",
    "            ],     \n",
    "            ignore_index = True\n",
    "        )\n",
    "\n",
    "# For some reason reading in the data creates a new column called pos so I delete it here\n",
    "data =data.drop(columns=['pos'])"
   ]
  },
  {
   "cell_type": "code",
   "execution_count": 31,
   "metadata": {},
   "outputs": [],
   "source": [
    "def make_track_dict(df): # create a dictionary pairing a track_uri with an index\n",
    "    result = {}\n",
    "    i = 0\n",
    "    for uri in pd.unique(df['track_uri']):\n",
    "        result[uri] = i\n",
    "        i += 1\n",
    "    return result\n",
    "\n",
    "def make_R(df): # create the recommendation array\n",
    "    m = len(pd.unique(df['pid']))\n",
    "    n = len(pd.unique(df['track_uri']))\n",
    "    track_dict = make_track_dict(df)\n",
    "\n",
    "    result = np.zeros([m,n])\n",
    "    for index , row in df.iterrows():\n",
    "        result[row['pid'], track_dict[row['track_uri']]] = 1\n",
    "    return result\n",
    "\n",
    "def make_R_list(df): # create list of tuples where recommendation array should have a 1\n",
    "    result = []\n",
    "    track_dict = make_track_dict(df)\n",
    "    for index , row in df.iterrows():\n",
    "        result.append((row['pid'], track_dict[row['track_uri']]))\n",
    "    return result\n",
    "\n",
    "def update_params_loop(R_list, P, Q, alpha, llambda): # use gradient descent to minimize MSE (with l2 regularization)\n",
    "    newP = P \n",
    "    newQ = Q\n",
    "    m , f = np.shape(P)\n",
    "    n = np.shape(Q)[0]\n",
    "\n",
    "    for u,i in R_list:\n",
    "        newP[u,:] -= alpha * 2 * (P[u,:] @ Q[i,:] - 1) * Q[i,:]\n",
    "        newQ[i,:] -= alpha * 2 * (P[u,:] @ Q[i,:] - 1) * P[u,:]\n",
    "    for u in range(m):\n",
    "        newP[u,:] -= alpha * 2 * llambda * P[u,:]\n",
    "    for i in range(n):\n",
    "        newQ[i,:] -= alpha * 2 * llambda * Q[i,:]\n",
    "    return (newP, newQ)\n",
    "\n",
    "\n",
    "\n",
    "    \n",
    "\n"
   ]
  },
  {
   "cell_type": "code",
   "execution_count": 17,
   "metadata": {},
   "outputs": [],
   "source": [
    "R_list = make_R_list(data)\n",
    "ones_df = pd.DataFrame(R_list, columns = ['pid', 'tid'])"
   ]
  },
  {
   "cell_type": "code",
   "execution_count": null,
   "metadata": {},
   "outputs": [],
   "source": []
  },
  {
   "cell_type": "code",
   "execution_count": 11,
   "metadata": {},
   "outputs": [],
   "source": [
    "R_list = make_R_list(data)"
   ]
  },
  {
   "cell_type": "code",
   "execution_count": 39,
   "metadata": {},
   "outputs": [],
   "source": [
    "f = 3 # number of latent features\n",
    "P = np.random.rand(np.shape(R)[0], f)\n",
    "Q = np.random.rand(np.shape(R)[1], f)"
   ]
  },
  {
   "cell_type": "code",
   "execution_count": 32,
   "metadata": {},
   "outputs": [
    {
     "data": {
      "text/plain": [
       "(array([[0.73858128, 0.2997585 , 0.7634779 ],\n",
       "        [0.59943615, 0.38234632, 0.72303317],\n",
       "        [0.54843629, 0.33340238, 0.88512886],\n",
       "        ...,\n",
       "        [0.57436532, 0.23138165, 0.95009341],\n",
       "        [0.54650902, 0.76882325, 0.64106865],\n",
       "        [0.29835871, 0.44194522, 0.83308253]]),\n",
       " array([[0.38626966, 0.3296744 , 0.67962062],\n",
       "        [0.1373481 , 0.77791887, 0.62463076],\n",
       "        [0.62392472, 0.60427956, 0.33523491],\n",
       "        ...,\n",
       "        [0.57984391, 0.14167416, 0.51159917],\n",
       "        [0.44200693, 0.1058984 , 0.64163648],\n",
       "        [0.09829083, 0.45720571, 0.50995845]]))"
      ]
     },
     "execution_count": 32,
     "metadata": {},
     "output_type": "execute_result"
    }
   ],
   "source": [
    "update_params_loop(R_list, P, Q, 0.01, 0.25)"
   ]
  },
  {
   "cell_type": "code",
   "execution_count": 60,
   "metadata": {},
   "outputs": [
    {
     "name": "stdout",
     "output_type": "stream",
     "text": [
      "0\n",
      "10\n",
      "20\n",
      "30\n",
      "40\n",
      "50\n",
      "60\n",
      "70\n",
      "80\n",
      "90\n"
     ]
    }
   ],
   "source": [
    "P_current = P.copy()\n",
    "Q_current = Q.copy()\n",
    "for i in range(100):\n",
    "    if i % 10 == 0:\n",
    "        print(i)\n",
    "    P_current , Q_current = update_params_loop(R_list, P_current, Q_current, 0.1, 0.25)"
   ]
  },
  {
   "cell_type": "code",
   "execution_count": 18,
   "metadata": {},
   "outputs": [
    {
     "data": {
      "text/plain": [
       "0.7748264353267021"
      ]
     },
     "execution_count": 18,
     "metadata": {},
     "output_type": "execute_result"
    }
   ],
   "source": [
    "P[0,:] @ Q[0,:]"
   ]
  },
  {
   "cell_type": "code",
   "execution_count": 54,
   "metadata": {},
   "outputs": [
    {
     "name": "stdout",
     "output_type": "stream",
     "text": [
      "[[0.36319391 0.24552166 0.23132487]\n",
      " [0.40897814 0.19635149 0.22422859]\n",
      " [0.42764512 0.15334543 0.25504751]\n",
      " ...\n",
      " [0.22835163 0.27942994 0.26384813]\n",
      " [0.25322913 0.26721552 0.25121552]\n",
      " [0.2336221  0.28665723 0.24644682]]\n",
      "[[0.18330633 0.13432415 0.55469912]\n",
      " [0.2794049  0.48886117 0.97864137]\n",
      " [0.95450681 0.08142545 0.74100955]\n",
      " ...\n",
      " [0.19187137 0.41115092 0.54018852]\n",
      " [0.86053959 0.73915226 0.78939881]\n",
      " [0.28055962 0.54103101 0.34080658]]\n"
     ]
    }
   ],
   "source": [
    "print(Q_current)\n",
    "print(Q)"
   ]
  },
  {
   "cell_type": "code",
   "execution_count": 53,
   "metadata": {},
   "outputs": [],
   "source": [
    "data.loc[data['pid'] == 8];"
   ]
  },
  {
   "cell_type": "code",
   "execution_count": 52,
   "metadata": {},
   "outputs": [
    {
     "name": "stdout",
     "output_type": "stream",
     "text": [
      "472 475\n"
     ]
    }
   ],
   "source": [
    "track_dict = make_track_dict(data)\n",
    "print(track_dict['spotify:track:1e0hllQ23AG0QGFgezgLOq'], track_dict['spotify:track:7DD7eSuYSC5xk2ArU62esN'])"
   ]
  },
  {
   "cell_type": "code",
   "execution_count": 61,
   "metadata": {},
   "outputs": [
    {
     "name": "stdout",
     "output_type": "stream",
     "text": [
      "[0.73113458 0.06293369 0.26661692]\n",
      "[0.11346046 0.70710329 0.53108864]\n",
      "[0.32460992 0.30696397 0.1781691 ]\n",
      "[0.35227247 0.36706276 0.13203964]\n",
      "[0.33693136 0.14928818 0.33439918]\n"
     ]
    }
   ],
   "source": [
    "print(Q[472,:])\n",
    "print(Q[475,:])\n",
    "print(Q_current[472,:])\n",
    "print(Q_current[475,:])\n",
    "print(Q_current[10000,:])"
   ]
  },
  {
   "cell_type": "code",
   "execution_count": null,
   "metadata": {},
   "outputs": [],
   "source": []
  }
 ],
 "metadata": {
  "kernelspec": {
   "display_name": "Python 3",
   "language": "python",
   "name": "python3"
  },
  "language_info": {
   "codemirror_mode": {
    "name": "ipython",
    "version": 3
   },
   "file_extension": ".py",
   "mimetype": "text/x-python",
   "name": "python",
   "nbconvert_exporter": "python",
   "pygments_lexer": "ipython3",
   "version": "3.11.5"
  }
 },
 "nbformat": 4,
 "nbformat_minor": 2
}
