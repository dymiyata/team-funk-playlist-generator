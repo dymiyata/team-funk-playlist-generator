{
  "cells": [
    {
      "cell_type": "code",
      "execution_count": null,
      "metadata": {
        "id": "Zxd4mGD2EoYk"
      },
      "outputs": [],
      "source": [
        "import numpy as np\n",
        "import pandas as pd\n",
        "import json"
      ]
    },
    {
      "cell_type": "code",
      "execution_count": null,
      "metadata": {
        "id": "tcFnSZWrEoYl"
      },
      "outputs": [],
      "source": [
        "# n is the number of json files we wish to read (max is 1000)\n",
        "n = 5\n",
        "\n",
        "for i in range(n):\n",
        "    # create the file_name string in order to read in file\n",
        "    file_name = 'spotify_million_playlist_dataset/data/mpd.slice.' \\\n",
        "        + str(i*1000) \\\n",
        "        + '-' + str(i*1000+999) + '.json'\n",
        "\n",
        "    # Uncomment the following line to show progress\n",
        "    # print(file_name)\n",
        "\n",
        "    # open the file and store its contents in file_contents\n",
        "    with open(file_name) as user_file:\n",
        "        file_contents = user_file.read()\n",
        "\n",
        "    # we only care about the \"playlists\" part of this dictionary\n",
        "    # save the list of playlists in playlist_list\n",
        "    parsed_json = json.loads(file_contents)\n",
        "    playlist_list = parsed_json[\"playlists\"]\n",
        "\n",
        "\n",
        "    # create dataframe if it's first playlist, otherwise append info to existing dataframe\n",
        "    # the record_path argument tells the json_normalize function how to flatten the data\n",
        "    # the meta argument tells the json_nomralize function what meta data to keep\n",
        "    if i == 0:\n",
        "        data = pd.json_normalize(\n",
        "            playlist_list,\n",
        "            record_path=\"tracks\",\n",
        "            meta=[\"name\", \"collaborative\", \"pid\", \"num_followers\", \"num_edits\"]\n",
        "        )\n",
        "    else:\n",
        "        data = pd.concat(\n",
        "            [\n",
        "                data,\n",
        "                pd.json_normalize(\n",
        "                    playlist_list,\n",
        "                    record_path=\"tracks\",\n",
        "                    meta=[\"name\", \"collaborative\", \"pid\", \"num_followers\", \"num_edits\"]\n",
        "                )\n",
        "            ],\n",
        "            ignore_index = True\n",
        "        )\n",
        "\n",
        "# For some reason reading in the data creates a new column called pos so I delete it here\n",
        "data =data.drop(columns=['pos'])"
      ]
    },
    {
      "cell_type": "code",
      "execution_count": null,
      "metadata": {
        "id": "mbsR-vpeEoYl"
      },
      "outputs": [],
      "source": []
    },
    {
      "cell_type": "code",
      "execution_count": 1,
      "metadata": {
        "id": "Tq54wsBPEoYm",
        "colab": {
          "base_uri": "https://localhost:8080/"
        },
        "outputId": "4b87505a-e790-47c8-d3d1-a3794430f232"
      },
      "outputs": [
        {
          "output_type": "stream",
          "name": "stdout",
          "text": [
            "I'm testing if Colab syncs changes to Github\n"
          ]
        }
      ],
      "source": [
        "print(\"I'm testing if Colab syncs changes to Github\")"
      ]
    },
    {
      "cell_type": "code",
      "execution_count": null,
      "metadata": {
        "id": "5RmRCjg9EoYm"
      },
      "outputs": [],
      "source": []
    },
    {
      "cell_type": "code",
      "execution_count": null,
      "metadata": {
        "id": "Ghsx5xvUEoYm"
      },
      "outputs": [],
      "source": []
    },
    {
      "cell_type": "code",
      "execution_count": null,
      "metadata": {
        "id": "fIwx0plSEoYm"
      },
      "outputs": [],
      "source": []
    }
  ],
  "metadata": {
    "kernelspec": {
      "display_name": "Python 3",
      "language": "python",
      "name": "python3"
    },
    "language_info": {
      "codemirror_mode": {
        "name": "ipython",
        "version": 3
      },
      "file_extension": ".py",
      "mimetype": "text/x-python",
      "name": "python",
      "nbconvert_exporter": "python",
      "pygments_lexer": "ipython3",
      "version": "3.12.0"
    },
    "colab": {
      "provenance": []
    }
  },
  "nbformat": 4,
  "nbformat_minor": 0
}