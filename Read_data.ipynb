{
 "cells": [
  {
   "cell_type": "code",
   "execution_count": 1,
   "metadata": {
    "id": "Zxd4mGD2EoYk"
   },
   "outputs": [],
   "source": [
    "import numpy as np\n",
    "import pandas as pd\n",
    "import json"
   ]
  },
  {
   "cell_type": "code",
   "execution_count": 2,
   "metadata": {
    "id": "tcFnSZWrEoYl"
   },
   "outputs": [
    {
     "name": "stdout",
     "output_type": "stream",
     "text": [
      "spotify_million_playlist_dataset/data/mpd.slice.0-999.json\n",
      "spotify_million_playlist_dataset/data/mpd.slice.1000-1999.json\n",
      "spotify_million_playlist_dataset/data/mpd.slice.2000-2999.json\n",
      "spotify_million_playlist_dataset/data/mpd.slice.3000-3999.json\n",
      "spotify_million_playlist_dataset/data/mpd.slice.4000-4999.json\n",
      "spotify_million_playlist_dataset/data/mpd.slice.5000-5999.json\n",
      "spotify_million_playlist_dataset/data/mpd.slice.6000-6999.json\n",
      "spotify_million_playlist_dataset/data/mpd.slice.7000-7999.json\n",
      "spotify_million_playlist_dataset/data/mpd.slice.8000-8999.json\n",
      "spotify_million_playlist_dataset/data/mpd.slice.9000-9999.json\n"
     ]
    }
   ],
   "source": [
    "# n is the number of json files we wish to read (max is 1000)\n",
    "n = 10\n",
    "\n",
    "for i in range(n):\n",
    "    # create the file_name string in order to read in file\n",
    "    file_name = 'spotify_million_playlist_dataset/data/mpd.slice.' \\\n",
    "        + str(i*1000) \\\n",
    "        + '-' + str(i*1000+999) + '.json'\n",
    "\n",
    "    # Uncomment the following line to show progress\n",
    "    print(file_name)\n",
    "\n",
    "    # open the file and store its contents in file_contents\n",
    "    with open(file_name) as user_file:\n",
    "        file_contents = user_file.read()\n",
    "\n",
    "    # we only care about the \"playlists\" part of this dictionary\n",
    "    # save the list of playlists in playlist_list\n",
    "    parsed_json = json.loads(file_contents)\n",
    "    playlist_list = parsed_json[\"playlists\"]\n",
    "\n",
    "\n",
    "    # create dataframe if it's first playlist, otherwise append info to existing dataframe\n",
    "    # the record_path argument tells the json_normalize function how to flatten the data\n",
    "    # the meta argument tells the json_nomralize function what meta data to keep\n",
    "    if i == 0:\n",
    "        data = pd.json_normalize(\n",
    "            playlist_list,\n",
    "            record_path=\"tracks\",\n",
    "            meta=[\"name\", \"collaborative\", \"pid\", \"num_followers\", \"num_edits\"]\n",
    "        )\n",
    "    else:\n",
    "        data = pd.concat(\n",
    "            [\n",
    "                data,\n",
    "                pd.json_normalize(\n",
    "                    playlist_list,\n",
    "                    record_path=\"tracks\",\n",
    "                    meta=[\"name\", \"collaborative\", \"pid\", \"num_followers\", \"num_edits\"]\n",
    "                )\n",
    "            ],\n",
    "            ignore_index = True\n",
    "        )\n",
    "\n",
    "# For some reason reading in the data creates a new column called pos so I delete it here\n",
    "data =data.drop(columns=['pos'])"
   ]
  },
  {
   "cell_type": "code",
   "execution_count": 3,
   "metadata": {
    "id": "mbsR-vpeEoYl"
   },
   "outputs": [
    {
     "name": "stdout",
     "output_type": "stream",
     "text": [
      "Total tracks: 664712\n",
      "Unique tracks: 170089\n",
      "Unique playlists: 10000\n"
     ]
    }
   ],
   "source": [
    "# Stats\n",
    "# Count the number of unique tracks\n",
    "nTracks = data['track_uri'].nunique()\n",
    "\n",
    "# Count the number of unique playlists\n",
    "nPlaylists = data['pid'].nunique()\n",
    "\n",
    "# Total number of tracks\n",
    "nTotalTracks = data.shape[0]\n",
    "\n",
    "print('Total tracks:', nTotalTracks)\n",
    "print('Unique tracks:', nTracks)\n",
    "print('Unique playlists:', nPlaylists)"
   ]
  },
  {
   "cell_type": "code",
   "execution_count": null,
   "metadata": {
    "id": "Ghsx5xvUEoYm"
   },
   "outputs": [],
   "source": []
  },
  {
   "cell_type": "code",
   "execution_count": null,
   "metadata": {
    "id": "fIwx0plSEoYm"
   },
   "outputs": [],
   "source": []
  }
 ],
 "metadata": {
  "colab": {
   "provenance": []
  },
  "kernelspec": {
   "display_name": "Python 3 (ipykernel)",
   "language": "python",
   "name": "python3"
  },
  "language_info": {
   "codemirror_mode": {
    "name": "ipython",
    "version": 3
   },
   "file_extension": ".py",
   "mimetype": "text/x-python",
   "name": "python",
   "nbconvert_exporter": "python",
   "pygments_lexer": "ipython3",
   "version": "3.11.5"
  }
 },
 "nbformat": 4,
 "nbformat_minor": 1
}
